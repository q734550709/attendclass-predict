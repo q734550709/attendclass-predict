{
 "cells": [
  {
   "cell_type": "code",
   "execution_count": 8,
   "metadata": {},
   "outputs": [
    {
     "name": "stdout",
     "output_type": "stream",
     "text": [
      "Model coefficients: [[-0.41807288  0.96629742 -2.52112973 -1.08407413]\n",
      " [ 0.53040787 -0.31441445 -0.1993728  -0.94835963]\n",
      " [-0.11233499 -0.65188297  2.72050253  2.03243376]]\n"
     ]
    },
    {
     "name": "stderr",
     "output_type": "stream",
     "text": [
      "/home/qikunlyu/miniconda3/envs/qikun/lib/python3.12/site-packages/sklearn/linear_model/_logistic.py:469: ConvergenceWarning: lbfgs failed to converge (status=1):\n",
      "STOP: TOTAL NO. of ITERATIONS REACHED LIMIT.\n",
      "\n",
      "Increase the number of iterations (max_iter) or scale the data as shown in:\n",
      "    https://scikit-learn.org/stable/modules/preprocessing.html\n",
      "Please also refer to the documentation for alternative solver options:\n",
      "    https://scikit-learn.org/stable/modules/linear_model.html#logistic-regression\n",
      "  n_iter_i = _check_optimize_result(\n"
     ]
    }
   ],
   "source": [
    "import numpy as np\n",
    "from sklearn.linear_model import LogisticRegression\n",
    "from sklearn.datasets import load_iris\n",
    "\n",
    "# 加载数据集\n",
    "X, y = load_iris(return_X_y=True)\n",
    "\n",
    "# 创建并训练模型\n",
    "model = LogisticRegression()\n",
    "model.fit(X, y)\n",
    "\n",
    "# 检查 coef_ 属性\n",
    "if hasattr(model, 'coef_'):\n",
    "    importances = np.abs(model.coef_[0])\n",
    "    print(\"Model coefficients:\", model.coef_)\n",
    "else:\n",
    "    logger.warning(\"Model doesn't support feature importance visualization\")"
   ]
  },
  {
   "cell_type": "code",
   "execution_count": 9,
   "metadata": {},
   "outputs": [],
   "source": [
    "import joblib\n"
   ]
  },
  {
   "cell_type": "code",
   "execution_count": 10,
   "metadata": {},
   "outputs": [],
   "source": [
    "import os\n",
    "os.chdir('/home/qikunlyu/文档/attendclass_predict_project')"
   ]
  },
  {
   "cell_type": "code",
   "execution_count": 13,
   "metadata": {},
   "outputs": [
    {
     "name": "stdout",
     "output_type": "stream",
     "text": [
      "模型加载成功\n"
     ]
    }
   ],
   "source": [
    "import sys\n",
    "import os\n",
    "\n",
    "# 确保自定义模块的路径在 sys.path 中\n",
    "sys.path.append('/home/qikunlyu/文档/attendclass_predict_project/src')\n",
    "\n",
    "\n",
    "import joblib\n",
    "\n",
    "# 加载模型\n",
    "model = joblib.load(\"/home/qikunlyu/文档/attendclass_predict_project/models/trained/exp_preview/baseline_logistic_regression_train_model.joblib\")\n",
    "\n",
    "# 检查模型是否有 coef_ 属性\n",
    "if hasattr(model, 'coef_'):\n",
    "    print(\"模型加载成功\")\n",
    "else:\n",
    "    print(\"模型没有 coef_ 属性\")"
   ]
  },
  {
   "cell_type": "code",
   "execution_count": 16,
   "metadata": {},
   "outputs": [
    {
     "data": {
      "text/plain": [
       "'/usr/share/fonts/truetype/Simhei.ttf'"
      ]
     },
     "execution_count": 16,
     "metadata": {},
     "output_type": "execute_result"
    }
   ],
   "source": [
    "import matplotlib.font_manager as fm\n",
    "fm.findfont(\"SimHei\")\n"
   ]
  },
  {
   "cell_type": "code",
   "execution_count": null,
   "metadata": {},
   "outputs": [],
   "source": []
  }
 ],
 "metadata": {
  "kernelspec": {
   "display_name": "qikun",
   "language": "python",
   "name": "python3"
  },
  "language_info": {
   "codemirror_mode": {
    "name": "ipython",
    "version": 3
   },
   "file_extension": ".py",
   "mimetype": "text/x-python",
   "name": "python",
   "nbconvert_exporter": "python",
   "pygments_lexer": "ipython3",
   "version": "3.12.8"
  }
 },
 "nbformat": 4,
 "nbformat_minor": 2
}
